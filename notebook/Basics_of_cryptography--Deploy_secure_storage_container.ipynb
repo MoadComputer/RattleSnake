{
 "cells": [
  {
   "cell_type": "markdown",
   "metadata": {},
   "source": [
    "# Basics of Cryptography -- Deploy Secure Storage Containers\n",
    "## Author: Dr. Rahul Remanan,\n",
    "## CEO and Chief Imagination Officer, [Moad Computer](https://www.moad.computer)"
   ]
  },
  {
   "cell_type": "code",
   "execution_count": null,
   "metadata": {},
   "outputs": [],
   "source": [
    "import hashlib\n",
    "from hashlib import sha256\n",
    "data = \"Some variable length data\"\n",
    "enc_data = data.encode('utf-8')"
   ]
  },
  {
   "cell_type": "code",
   "execution_count": null,
   "metadata": {},
   "outputs": [],
   "source": [
    "sha256(enc_data).hexdigest()"
   ]
  },
  {
   "cell_type": "code",
   "execution_count": null,
   "metadata": {},
   "outputs": [],
   "source": [
    "sha256(enc_data).hexdigest()"
   ]
  },
  {
   "cell_type": "code",
   "execution_count": null,
   "metadata": {},
   "outputs": [],
   "source": [
    "input_file = open('./Sample_text.txt',\"r\",encoding='utf-8')"
   ]
  },
  {
   "cell_type": "code",
   "execution_count": null,
   "metadata": {},
   "outputs": [],
   "source": [
    "md5 = hashlib.md5()\n",
    "md5.update(('Python rocks!').encode('utf-8'))"
   ]
  },
  {
   "cell_type": "code",
   "execution_count": null,
   "metadata": {},
   "outputs": [],
   "source": [
    "md5.update(b'Python rocks!')\n",
    "md5.digest()"
   ]
  },
  {
   "cell_type": "code",
   "execution_count": null,
   "metadata": {},
   "outputs": [],
   "source": [
    "md5.hexdigest()"
   ]
  },
  {
   "cell_type": "code",
   "execution_count": null,
   "metadata": {},
   "outputs": [],
   "source": [
    "sha = hashlib.sha1(b'Hello Python').hexdigest()"
   ]
  },
  {
   "cell_type": "code",
   "execution_count": null,
   "metadata": {},
   "outputs": [],
   "source": [
    "sha"
   ]
  },
  {
   "cell_type": "markdown",
   "metadata": {},
   "source": [
    "## Key derivation:"
   ]
  },
  {
   "cell_type": "code",
   "execution_count": null,
   "metadata": {},
   "outputs": [],
   "source": [
    "import binascii\n",
    "dk = hashlib.pbkdf2_hmac(hash_name='sha512',\n",
    "   \tpassword=b'my_bad_password_1234', \n",
    "\tsalt=b'my_bad_salt', \n",
    "\titerations=100000)\n",
    "binascii.hexlify(dk)"
   ]
  },
  {
   "cell_type": "markdown",
   "metadata": {},
   "source": [
    "## Encrypt a string:"
   ]
  },
  {
   "cell_type": "code",
   "execution_count": null,
   "metadata": {},
   "outputs": [],
   "source": [
    "from Crypto.Cipher import DES\n",
    "key = 'abcdefgh'"
   ]
  },
  {
   "cell_type": "code",
   "execution_count": null,
   "metadata": {},
   "outputs": [],
   "source": [
    "def pad(text):\n",
    "        while len(text) % 8 != 0:\n",
    "            text += ' '\n",
    "        return text"
   ]
  },
  {
   "cell_type": "code",
   "execution_count": null,
   "metadata": {},
   "outputs": [],
   "source": [
    "des = DES.new(key.encode('utf-8'), DES.MODE_ECB)\n",
    "text = 'Python rocks!'\n",
    "padded_text = pad(text)"
   ]
  },
  {
   "cell_type": "code",
   "execution_count": null,
   "metadata": {},
   "outputs": [],
   "source": [
    "des_encrypted_text = des.encrypt(padded_text.encode('utf-8'))\n",
    "print (des_encrypted_text)"
   ]
  },
  {
   "cell_type": "code",
   "execution_count": null,
   "metadata": {},
   "outputs": [],
   "source": [
    "from Crypto.Cipher import AES"
   ]
  },
  {
   "cell_type": "code",
   "execution_count": null,
   "metadata": {},
   "outputs": [],
   "source": [
    "key = 'This is a key123'"
   ]
  },
  {
   "cell_type": "code",
   "execution_count": null,
   "metadata": {},
   "outputs": [],
   "source": [
    "aes_encrypted_text = AES.new(key.encode(\"utf8\"), AES.MODE_CBC, padded_text.encode(\"utf8\"))"
   ]
  },
  {
   "cell_type": "code",
   "execution_count": null,
   "metadata": {},
   "outputs": [],
   "source": [
    "print (aes_encrypted_text)"
   ]
  },
  {
   "cell_type": "code",
   "execution_count": null,
   "metadata": {},
   "outputs": [],
   "source": [
    "import subprocess\n",
    "\n",
    "def execute_in_shell(command=None, \n",
    "                     verbose = False):\n",
    "    \"\"\" \n",
    "        command -- keyword argument, takes a list as input\n",
    "        verbose -- keyword argument, takes a boolean value as input\n",
    "    \n",
    "        This is a function that executes shell scripts from within python.\n",
    "        \n",
    "        Keyword argument 'command', should be a list of shell commands.\n",
    "        Keyword argument 'versboe', should be a boolean value to set verbose level.\n",
    "        \n",
    "        Example usage: execute_in_shell(command = ['ls ./some/folder/',\n",
    "                                                    ls ./some/folder/  -1 | wc -l'],\n",
    "                                        verbose = True ) \n",
    "                                        \n",
    "        This command returns dictionary with elements: Output and Error.\n",
    "        \n",
    "        Output records the console output,\n",
    "        Error records the console error messages.\n",
    "                                        \n",
    "    \"\"\"\n",
    "    error = []\n",
    "    output = []\n",
    "    \n",
    "    if isinstance(command, list):\n",
    "        for i in range(len(command)):\n",
    "            try:\n",
    "                process = subprocess.Popen(command[i], shell=True, stdout=subprocess.PIPE)\n",
    "                process.wait()\n",
    "                out, err = process.communicate()\n",
    "                error.append(err)\n",
    "                output.append(out)\n",
    "                if verbose:\n",
    "                    print ('Success running shell command: {}'.format(command[i]))\n",
    "            except Exception as e:\n",
    "                print ('Failed running shell command: {}'.format(command[i]))\n",
    "                if verbose:\n",
    "                    print(type(e))\n",
    "                    print(e.args)\n",
    "                    print(e)\n",
    "                \n",
    "    else:\n",
    "        print ('The argument command takes a list input ...')\n",
    "    return {'Output': output, 'Error': error }"
   ]
  },
  {
   "cell_type": "markdown",
   "metadata": {},
   "source": [
    "## Create an encrypted storage container"
   ]
  },
  {
   "cell_type": "code",
   "execution_count": null,
   "metadata": {},
   "outputs": [],
   "source": [
    "admin_passwd = 'YOUR_ADMIN_PASSWD'\n",
    "container_passwd = '3UArzGgtqgaPNqa5gjI0VbVaiGf7TJCenwD1mna5VXq6THXSUQXiBx4CGi12Lrkk'\n",
    "random_seed = 'qWVluHI1Ex8rtSQ8jeM8aoeZoUFAZhb8B5zvRjXxbc9vu49UofvrvzHRGk5hOCTevSWmrkZjjRPgR7NcVO3UQy5F4h9fMiVPf0NR8z4GLa8Bpkgs3p37obNpSBM6f4MkpURT0Whjp2CjLBvqcuIlKCyQ8gsRa7Mm2Jos8TDShGwNASPAbF7hJ12TKBM652vwg4PS73usc16K1TBY1H4WKFVQ3XyVYKshG2EVmbXBKNBNglAVCO5EcZnlIHmJLY7nvMKakqBM4ncjnUK0MyBR7eLfCE0X2Fj7uTRSz5WcZ4d3YrMa8jYsgmnPpsd65JN6'"
   ]
  },
  {
   "cell_type": "code",
   "execution_count": null,
   "metadata": {},
   "outputs": [],
   "source": [
    "command = [\"printf './veracrypt.volume\\n3\\n\\n\\n{}\\n{}' | veracrypt -t -c --volume-type normal --size 205M -p {} --hash SHA-512 --filesystem NTFS --encryption AES\".format(random_seed, admin_passwd, container_passwd)]"
   ]
  },
  {
   "cell_type": "code",
   "execution_count": null,
   "metadata": {},
   "outputs": [],
   "source": [
    "execute_in_shell(command = command,\n",
    "                 verbose = True ) "
   ]
  },
  {
   "cell_type": "markdown",
   "metadata": {},
   "source": [
    "## Mount the container"
   ]
  },
  {
   "cell_type": "code",
   "execution_count": null,
   "metadata": {},
   "outputs": [],
   "source": [
    "mount_dir = '/media/veracrypt_volume'"
   ]
  },
  {
   "cell_type": "code",
   "execution_count": null,
   "metadata": {},
   "outputs": [],
   "source": [
    "command = [\"printf '{}\\n3\\n\\nn\\n{}' | veracrypt -v ./veracrypt.volume -p {}\".format(mount_dir, admin_passwd, container_passwd)]"
   ]
  },
  {
   "cell_type": "code",
   "execution_count": null,
   "metadata": {},
   "outputs": [],
   "source": [
    "execute_in_shell(command = command,\n",
    "                 verbose = True ) "
   ]
  },
  {
   "cell_type": "markdown",
   "metadata": {},
   "source": [
    "## Copy a file to the container"
   ]
  },
  {
   "cell_type": "code",
   "execution_count": null,
   "metadata": {},
   "outputs": [],
   "source": [
    "command = [\"cp ./Sample_text.txt /media/veracrypt_volume\"]"
   ]
  },
  {
   "cell_type": "code",
   "execution_count": null,
   "metadata": {},
   "outputs": [],
   "source": [
    "execute_in_shell(command = command,\n",
    "                 verbose = True ) "
   ]
  },
  {
   "cell_type": "markdown",
   "metadata": {},
   "source": [
    "## Dismount the container"
   ]
  },
  {
   "cell_type": "code",
   "execution_count": null,
   "metadata": {},
   "outputs": [],
   "source": [
    "command = [\"printf '{}' | veracrypt -d\".format(admin_passwd)]"
   ]
  },
  {
   "cell_type": "code",
   "execution_count": null,
   "metadata": {},
   "outputs": [],
   "source": [
    "execute_in_shell(command = command,\n",
    "                 verbose = True ) "
   ]
  },
  {
   "cell_type": "code",
   "execution_count": null,
   "metadata": {},
   "outputs": [],
   "source": []
  }
 ],
 "metadata": {
  "kernelspec": {
   "display_name": "Python 3",
   "language": "python",
   "name": "python3"
  },
  "language_info": {
   "codemirror_mode": {
    "name": "ipython",
    "version": 3
   },
   "file_extension": ".py",
   "mimetype": "text/x-python",
   "name": "python",
   "nbconvert_exporter": "python",
   "pygments_lexer": "ipython3",
   "version": "3.6.5"
  }
 },
 "nbformat": 4,
 "nbformat_minor": 2
}
